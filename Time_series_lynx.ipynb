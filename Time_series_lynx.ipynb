{
 "cells": [
  {
   "cell_type": "code",
   "execution_count": null,
   "id": "fb672fca-3ae8-4427-9d2c-1f4b1ffea5b3",
   "metadata": {},
   "outputs": [],
   "source": [
    "#Name: Roshan Kumar Sahu\n",
    "#Roll: 121CS0228"
   ]
  },
  {
   "cell_type": "code",
   "execution_count": 59,
   "id": "06945978-e84f-444e-b9a7-fc68a14ca3ba",
   "metadata": {},
   "outputs": [],
   "source": [
    "# Import required packages\n",
    "import numpy as np\n",
    "import pandas as pd\n",
    "from sklearn.neural_network import MLPRegressor\n",
    "from sklearn.linear_model import LinearRegression\n",
    "import os\n",
    "import warnings\n",
    "import matplotlib.pyplot as plt \n",
    "import seaborn as sns\n",
    "warnings.filterwarnings(\"ignore\")"
   ]
  },
  {
   "cell_type": "code",
   "execution_count": 60,
   "id": "9ce48758-2995-489c-9ecb-e22c99106b6b",
   "metadata": {},
   "outputs": [],
   "source": [
    "# split a univariate time series into patterns\n",
    "def get_Patterns(TSeries, n_inputs,h):\n",
    "    X,y,z = pd.DataFrame(np.zeros((len(TSeries)-n_inputs-h+1,n_inputs))), pd.DataFrame(), pd.DataFrame()\n",
    "    for i in range(len(TSeries)):\n",
    "        # find the end of this pattern\n",
    "        end_ix = i + n_inputs + h - 1\n",
    "        # check if we are beyond the time series\n",
    "        if end_ix > len(TSeries)-1:\n",
    "            break\n",
    "        # gather input and output parts of the pattern\n",
    "        for j in range(n_inputs):\n",
    "            X.loc[i,j]=TSeries.iloc[i+j,0]\n",
    "        i=i+n_inputs\n",
    "        #y=y.append(TSeries.iloc[end_ix], ignore_index = True)\n",
    "        y=pd.concat([y, TSeries.iloc[end_ix]], ignore_index=True)\n",
    "        sinX=pd.DataFrame(np.sin(X))\n",
    "        cosX=pd.DataFrame(np.cos(X))\n",
    "        squareX=pd.DataFrame(np.power(X,2))\n",
    "        #X1=pd.concat([X,sinX,cosX,squareX], axis=1)\n",
    "        X1=X\n",
    "    return pd.DataFrame(X),pd.DataFrame(y)"
   ]
  },
  {
   "cell_type": "code",
   "execution_count": 61,
   "id": "81bff4b5-c230-4329-b392-ffa476c83673",
   "metadata": {},
   "outputs": [],
   "source": [
    "# originalData should be a Column Vectored DataFrame\n",
    "def minmaxNorm(originalData, lenTrainValidation):\n",
    "    max2norm=max(originalData.iloc[0:lenTrainValidation,0])\n",
    "    min2norm=min(originalData.iloc[0:lenTrainValidation,0])\n",
    "    lenOriginal=len(originalData)\n",
    "    normalizedData=np.zeros(lenOriginal)   \n",
    "    normalizedData = []\n",
    "    for i in range (lenOriginal):\n",
    "        normalizedData.append((originalData.iloc[i]-min2norm)/(max2norm-min2norm))    \n",
    "    return pd.DataFrame(normalizedData)"
   ]
  },
  {
   "cell_type": "code",
   "execution_count": 62,
   "id": "ef897fc7-4a34-4955-ba94-2ec77bab2b44",
   "metadata": {},
   "outputs": [],
   "source": [
    "# originalData and forecastedData should be Column Vectored DataFrames\n",
    "def minmaxDeNorm( originalData, forecastedData, lenTrainValidation):\n",
    "    # Maximum Value\n",
    "    max2norm=max(originalData.iloc[0:lenTrainValidation,0])\n",
    "    # Minimum Value\n",
    "    min2norm=min(originalData.iloc[0:lenTrainValidation,0])\n",
    "    lenOriginal=len(originalData)\n",
    "    denormalizedData=[]   \n",
    "    #De-Normalize using Min-Max Normalization\n",
    "    for i in range (lenOriginal):\n",
    "        denormalizedData.append((forecastedData.iloc[i]*(max2norm-min2norm))+min2norm)  \n",
    "    return pd.DataFrame(denormalizedData)"
   ]
  },
  {
   "cell_type": "code",
   "execution_count": 63,
   "id": "eedfd1b6-5e5e-4db9-a549-646505238eb5",
   "metadata": {},
   "outputs": [],
   "source": [
    "# Timeseries_Data and forecasted_value should be Column Vectored DataFrames\n",
    "def findRMSE( Timeseries_Data, forecasted_value,lenTrainValidation):\n",
    "    l=Timeseries_Data.shape[0]\n",
    "    lenTest=l-lenTrainValidation\n",
    "    # RMSE on Train & Validation Set\n",
    "    trainRMSE=0;\n",
    "    for i in range (lenTrainValidation):\n",
    "        trainRMSE=trainRMSE+np.power((forecasted_value.iloc[i,0]-Timeseries_Data.iloc[i,0]),2) \n",
    "    trainRMSE=np.sqrt(trainRMSE/lenTrainValidation)\n",
    "    # RMSE on Test Set\n",
    "    testRMSE=0;\n",
    "    for i in range (lenTrainValidation,l,1):\n",
    "        testRMSE=testRMSE+np.power((forecasted_value.iloc[i,0]-Timeseries_Data.iloc[i,0]),2)\n",
    "    testRMSE=np.sqrt(testRMSE/lenTest)\n",
    "    return trainRMSE, testRMSE "
   ]
  },
  {
   "cell_type": "code",
   "execution_count": 64,
   "id": "80e74219-c24f-4270-9ffa-e3d08c1d7a1e",
   "metadata": {},
   "outputs": [],
   "source": [
    "# Timeseries_Data and forecasted_value should be Column Vectored DataFrames\n",
    "def findMAE(Timeseries_Data, forecasted_value,lenTrainValidation):\n",
    "    l=Timeseries_Data.shape[0]\n",
    "    lenTest=l-lenTrainValidation\n",
    "    # MAE on Train & Validation Set\n",
    "    trainMAE=0;\n",
    "    for i in range (lenTrainValidation):\n",
    "        trainMAE=trainMAE+np.abs(forecasted_value.iloc[i,0]-Timeseries_Data.iloc[i,0]) \n",
    "    trainMAE=(trainMAE/(lenTrainValidation));\n",
    "    # MAE on Test Set\n",
    "    testMAE=0;\n",
    "    for i in range (lenTrainValidation,l,1):\n",
    "        testMAE=testMAE+np.abs(forecasted_value.iloc[i,0]-Timeseries_Data.iloc[i,0])\n",
    "    testMAE=(testMAE/lenTest);\n",
    "    return trainMAE, testMAE"
   ]
  },
  {
   "cell_type": "code",
   "execution_count": 65,
   "id": "d43b07b1-8e74-47ae-854f-709f2b5b69f8",
   "metadata": {},
   "outputs": [],
   "source": [
    "def Find_Fitness(x,y,lenValid,lenTest,model):\n",
    "    NOP=y.shape[0]\n",
    "    lenTrain=NOP-lenValid-lenTest\n",
    "    xTrain=x.iloc[0:lenTrain,:]\n",
    "    xValid=x.iloc[lenTrain:(lenTrain+lenValid),:]\n",
    "    xTest=x.iloc[(lenTrain+lenValid):NOP,:]\n",
    "    yTrain=y.iloc[0:lenTrain,0]\n",
    "    yValid=y.iloc[lenTrain:(lenTrain+lenValid),0]\n",
    "    yTest=y.iloc[(lenTrain+lenValid):NOP,0]\n",
    "    model.fit(xTrain, yTrain)\n",
    "    yhatNorm=model.predict(x).flatten().reshape(x.shape[0],1)\n",
    "    return pd.DataFrame(yhatNorm)"
   ]
  },
  {
   "cell_type": "code",
   "execution_count": 66,
   "id": "3392cd2e-76f9-4054-a4a9-b7639af4105d",
   "metadata": {},
   "outputs": [
    {
     "data": {
      "text/html": [
       "<div>\n",
       "<style scoped>\n",
       "    .dataframe tbody tr th:only-of-type {\n",
       "        vertical-align: middle;\n",
       "    }\n",
       "\n",
       "    .dataframe tbody tr th {\n",
       "        vertical-align: top;\n",
       "    }\n",
       "\n",
       "    .dataframe thead th {\n",
       "        text-align: right;\n",
       "    }\n",
       "</style>\n",
       "<table border=\"1\" class=\"dataframe\">\n",
       "  <thead>\n",
       "    <tr style=\"text-align: right;\">\n",
       "      <th></th>\n",
       "      <th>0</th>\n",
       "    </tr>\n",
       "  </thead>\n",
       "  <tbody>\n",
       "    <tr>\n",
       "      <th>count</th>\n",
       "      <td>114.000000</td>\n",
       "    </tr>\n",
       "    <tr>\n",
       "      <th>mean</th>\n",
       "      <td>1538.017544</td>\n",
       "    </tr>\n",
       "    <tr>\n",
       "      <th>std</th>\n",
       "      <td>1585.843914</td>\n",
       "    </tr>\n",
       "    <tr>\n",
       "      <th>min</th>\n",
       "      <td>39.000000</td>\n",
       "    </tr>\n",
       "    <tr>\n",
       "      <th>25%</th>\n",
       "      <td>348.250000</td>\n",
       "    </tr>\n",
       "    <tr>\n",
       "      <th>50%</th>\n",
       "      <td>771.000000</td>\n",
       "    </tr>\n",
       "    <tr>\n",
       "      <th>75%</th>\n",
       "      <td>2566.750000</td>\n",
       "    </tr>\n",
       "    <tr>\n",
       "      <th>max</th>\n",
       "      <td>6991.000000</td>\n",
       "    </tr>\n",
       "  </tbody>\n",
       "</table>\n",
       "</div>"
      ],
      "text/plain": [
       "                 0\n",
       "count   114.000000\n",
       "mean   1538.017544\n",
       "std    1585.843914\n",
       "min      39.000000\n",
       "25%     348.250000\n",
       "50%     771.000000\n",
       "75%    2566.750000\n",
       "max    6991.000000"
      ]
     },
     "execution_count": 66,
     "metadata": {},
     "output_type": "execute_result"
    }
   ],
   "source": [
    "#Read the Time Series Dataset\n",
    "Timeseries_Data=pd.read_csv('Lynx.csv',header=None)\n",
    "Timeseries_Data.describe()"
   ]
  },
  {
   "cell_type": "code",
   "execution_count": 67,
   "id": "6fac9f88-4590-40f1-80cb-8728e9d0c6ff",
   "metadata": {},
   "outputs": [
    {
     "name": "stdout",
     "output_type": "stream",
     "text": [
      "The Autocorrelation plot for the data is:\n"
     ]
    },
    {
     "data": {
      "image/png": "[encoded data removed]",
      "text/plain": [
       "<Figure size 640x480 with 1 Axes>"
      ]
     },
     "metadata": {},
     "output_type": "display_data"
    }
   ],
   "source": [
    "plt.title(\"Autocorrelation Plot\") \n",
    "# Providing x-axis name.\n",
    "plt.xlabel(\"Lags\") \n",
    "# Plotting the Autocorrelation plot.\n",
    "plt.acorr(np.array(Timeseries_Data.iloc[:,0], dtype=float), maxlags = 20) \n",
    "# Displaying the plot.\n",
    "print(\"The Autocorrelation plot for the data is:\")\n",
    "plt.grid(True)\n",
    "plt.show() "
   ]
  },
  {
   "cell_type": "code",
   "execution_count": 68,
   "id": "89d6ed9d-c0d4-4d28-ba1c-7ec6a2eaf80b",
   "metadata": {},
   "outputs": [
    {
     "data": {
      "text/plain": [
       "<Axes: ylabel='Count'>"
      ]
     },
     "execution_count": 68,
     "metadata": {},
     "output_type": "execute_result"
    },
    {
     "data": {
      "image/png": "[encoded data removed]",
      "text/plain": [
       "<Figure size 640x480 with 1 Axes>"
      ]
     },
     "metadata": {},
     "output_type": "display_data"
    }
   ],
   "source": [
    "#4. Rug plot — sns.rugplot()\n",
    "sns.rugplot(data=Timeseries_Data, height=.03, color='darkblue')\n",
    "sns.histplot(data=Timeseries_Data, kde=True)"
   ]
  },
  {
   "cell_type": "code",
   "execution_count": 69,
   "id": "46ea70ad-6ab5-4f97-8531-771a6fe8c0f0",
   "metadata": {},
   "outputs": [
    {
     "name": "stdout",
     "output_type": "stream",
     "text": [
      "            0           1           2         3\n",
      "0  804.186429  543.701142  530.371979  440.0537\n"
     ]
    }
   ],
   "source": [
    "LagLength=10\n",
    "h=1\n",
    "lt=Timeseries_Data.shape[0]\n",
    "lenTrain=int(round(lt*0.7))\n",
    "lenValidation=int(round(lt*0.15))\n",
    "lenTest=int(lt-lenTrain-lenValidation)\n",
    "# NORMALIZE THE DATA\n",
    "normalizedData=minmaxNorm(Timeseries_Data,lenTrain+lenValidation);\n",
    "# Transform the Time Series into Patterns Using Sliding Window\n",
    "X, y = get_Patterns(normalizedData, LagLength, h)\n",
    "model=LinearRegression()\n",
    "name='LinearRegression'\n",
    "file1='./'+str(name)+\"_Accuracy.xlsx\"\n",
    "file2='./'+str(name)+\"_Forecasts.xlsx\"\n",
    "Forecasts=pd.DataFrame()\n",
    "Accuracy=pd.DataFrame()\n",
    "\n",
    "ynorm1=Find_Fitness(X,y,lenValidation,lenTest,model)\n",
    "ynorm=pd.DataFrame(normalizedData.iloc[0:(LagLength+h-1),0])\n",
    "ynorm=pd.concat([ynorm, ynorm1], ignore_index=True)\n",
    "yhat=minmaxDeNorm(Timeseries_Data, ynorm, lenTrain+lenValidation)\n",
    "Accuracy.loc[0,0],Accuracy.loc[0,1]=findRMSE( Timeseries_Data,yhat,lenTrain+lenValidation)\n",
    "Accuracy.loc[0,2],Accuracy.loc[0,3]=findMAE( Timeseries_Data,yhat,lenTrain+lenValidation)\n",
    "Forecasts=pd.concat([Forecasts, yhat.T], ignore_index=True)\n",
    "Accuracy.to_excel(file1,sheet_name='Accuracy',index=False)\n",
    "Forecasts.to_excel(file2,sheet_name='Forecasts',index=False)\n",
    "print(Accuracy)"
   ]
  },
  {
   "cell_type": "code",
   "execution_count": 70,
   "id": "7b5b0657-d5e1-4ffe-a168-e4b8587328fa",
   "metadata": {},
   "outputs": [
    {
     "name": "stdout",
     "output_type": "stream",
     "text": [
      "[[ 962.11567854  609.49333407  616.92860307  478.203292  ]\n",
      " [ 901.23774683  651.89671447  552.90277457  549.11260565]\n",
      " [ 895.93463031  578.81928827  582.10383617  485.45669102]\n",
      " [1038.82287038  646.04579912  676.12641705  538.0441936 ]\n",
      " [ 918.04636862  601.6508874   569.6168001   518.14231627]\n",
      " [1021.82142635  818.62626424  654.48906361  723.29815528]\n",
      " [ 990.4008526   773.49387026  643.10833403  660.560692  ]\n",
      " [ 986.64517568  716.83859486  624.33410619  618.45001796]\n",
      " [1062.20288992  735.08821594  675.34530266  629.80158753]\n",
      " [1025.85860902  649.8445702   696.73961158  561.7621713 ]]\n",
      "The mean is  [[980.30862483 678.17975388 629.1694849  576.28317226]]\n"
     ]
    }
   ],
   "source": [
    "#Q2\n",
    "LagLength=10\n",
    "h=1\n",
    "lt=Timeseries_Data.shape[0]\n",
    "lenTrain=int(round(lt*0.7))\n",
    "lenValidation=int(round(lt*0.15))\n",
    "lenTest=int(lt-lenTrain-lenValidation)\n",
    "# NORMALIZE THE DATA\n",
    "normalizedData=minmaxNorm(Timeseries_Data,lenTrain+lenValidation);\n",
    "# Transform the Time Series into Patterns Using Sliding Window\n",
    "X, y = get_Patterns(normalizedData, LagLength, h)\n",
    "model=MLPRegressor()\n",
    "name='MLPRegression'\n",
    "file1='./'+str(name)+\"_Accuracy.xlsx\"\n",
    "file2='./'+str(name)+\"_Forecasts.xlsx\"\n",
    "Forecasts=pd.DataFrame()\n",
    "Accuracy=pd.DataFrame()\n",
    "\n",
    "arr=np.zeros((10,4))\n",
    "ans=np.zeros((1,4))\n",
    "for i in range(10):\n",
    "    ynorm1=Find_Fitness(X,y,lenValidation,lenTest,model)\n",
    "    ynorm=pd.DataFrame(normalizedData.iloc[0:(LagLength+h-1),0])\n",
    "    ynorm=pd.concat([ynorm, ynorm1], ignore_index=True)\n",
    "    yhat=minmaxDeNorm(Timeseries_Data, ynorm, lenTrain+lenValidation)\n",
    "    Accuracy.loc[0,0],Accuracy.loc[0,1]=findRMSE( Timeseries_Data,yhat,lenTrain+lenValidation)\n",
    "    Accuracy.loc[0,2],Accuracy.loc[0,3]=findMAE( Timeseries_Data,yhat,lenTrain+lenValidation)\n",
    "    Forecasts=pd.concat([Forecasts, yhat.T], ignore_index=True)\n",
    "    Accuracy.to_excel(file1,sheet_name='Accuracy',index=False)\n",
    "    Forecasts.to_excel(file2,sheet_name='Forecasts',index=False)\n",
    "    arr[i]=Accuracy\n",
    "print(arr)\n",
    "for i in range(10):\n",
    "    ans[0]+=(arr[i]/10)\n",
    "print(\"The mean is \",ans)"
   ]
  },
  {
   "cell_type": "code",
   "execution_count": 71,
   "id": "ecc9547c-dd43-438a-8558-19e60353e206",
   "metadata": {},
   "outputs": [
    {
     "name": "stdout",
     "output_type": "stream",
     "text": [
      "The Autocorrelation plot for the data is:\n"
     ]
    },
    {
     "data": {
      "image/png": "[encoded data removed]",
      "text/plain": [
       "<Figure size 640x480 with 1 Axes>"
      ]
     },
     "metadata": {},
     "output_type": "display_data"
    }
   ],
   "source": [
    "#Q3\n",
    "plt.title(\"Autocorrelation Plot\") \n",
    "# Providing x-axis name.\n",
    "plt.xlabel(\"Lags\") \n",
    "# Plotting the Autocorrelation plot.\n",
    "plt.acorr(np.array(Timeseries_Data.iloc[:,0], dtype=float), maxlags = 20) \n",
    "# Displaying the plot.\n",
    "print(\"The Autocorrelation plot for the data is:\")\n",
    "plt.grid(True)\n",
    "plt.show() "
   ]
  },
  {
   "cell_type": "code",
   "execution_count": 72,
   "id": "044535e0-13a0-4147-861f-859e43619b1f",
   "metadata": {},
   "outputs": [
    {
     "data": {
      "text/plain": [
       "<bound method NDFrame.head of                0\n",
       "0     248.181818\n",
       "1     284.727273\n",
       "2     482.090909\n",
       "3     649.909091\n",
       "4    1150.090909\n",
       "..           ...\n",
       "105  2668.181818\n",
       "106  1397.272727\n",
       "107   480.909091\n",
       "108   440.909091\n",
       "109   601.818182\n",
       "\n",
       "[110 rows x 1 columns]>"
      ]
     },
     "execution_count": 72,
     "metadata": {},
     "output_type": "execute_result"
    }
   ],
   "source": [
    "#By observing the autocorrelation plot, it found that the cycle repeats at a period of 10.\n",
    "temp=Timeseries_Data[0:len(Timeseries_Data)-len(Timeseries_Data)%10].values\n",
    "temp_arr=np.zeros((10,1))\n",
    "for i in range(110):\n",
    "    temp_arr[i%10][0]=temp[i][0]/11\n",
    "Timeseries_nocycle=np.zeros((110,1))\n",
    "for i in range(110):\n",
    "    Timeseries_nocycle[i][0]=temp[i][0]-temp_arr[i%10][0]\n",
    "Timeseries_nocycle=pd.DataFrame(Timeseries_nocycle)\n",
    "Timeseries_nocycle.head"
   ]
  },
  {
   "cell_type": "code",
   "execution_count": 78,
   "id": "56900f4e-6291-4ac8-a96d-cc86b42e01c9",
   "metadata": {},
   "outputs": [
    {
     "name": "stdout",
     "output_type": "stream",
     "text": [
      "The Autocorrelation plot for the data is:\n"
     ]
    },
    {
     "data": {
      "image/png": "[encoded data removed]",
      "text/plain": [
       "<Figure size 640x480 with 1 Axes>"
      ]
     },
     "metadata": {},
     "output_type": "display_data"
    }
   ],
   "source": [
    "#Q3\n",
    "plt.title(\"Autocorrelation Plot\") \n",
    "# Providing x-axis name.\n",
    "plt.xlabel(\"Lags\") \n",
    "# Plotting the Autocorrelation plot.\n",
    "plt.acorr(np.array(Timeseries_nocycle.iloc[:,0], dtype=float), maxlags = 20) \n",
    "# Displaying the plot.\n",
    "print(\"The Autocorrelation plot for the data is:\")\n",
    "plt.grid(True)\n",
    "plt.show() "
   ]
  },
  {
   "cell_type": "code",
   "execution_count": 73,
   "id": "062d88fa-4c15-449b-8297-5bc4ad575fd9",
   "metadata": {},
   "outputs": [
    {
     "name": "stdout",
     "output_type": "stream",
     "text": [
      "            0           1           2           3\n",
      "0  777.466406  756.166474  503.611602  571.452595\n"
     ]
    }
   ],
   "source": [
    "LagLength=10\n",
    "h=1\n",
    "lt=Timeseries_nocycle.shape[0]\n",
    "lenTrain=int(round(lt*0.7))\n",
    "lenValidation=int(round(lt*0.15))\n",
    "lenTest=int(lt-lenTrain-lenValidation)\n",
    "# NORMALIZE THE DATA\n",
    "normalizedData=minmaxNorm(Timeseries_nocycle,lenTrain+lenValidation);\n",
    "# Transform the Time Series into Patterns Using Sliding Window\n",
    "X, y = get_Patterns(normalizedData, LagLength, h)\n",
    "model=LinearRegression()\n",
    "name='LinearRegression'\n",
    "file1='./'+str(name)+\"_AccuracyQ3.xlsx\"\n",
    "file2='./'+str(name)+\"_ForecastsQ3.xlsx\"\n",
    "Forecasts=pd.DataFrame()\n",
    "Accuracy=pd.DataFrame()\n",
    "\n",
    "ynorm1=Find_Fitness(X,y,lenValidation,lenTest,model)\n",
    "ynorm=pd.DataFrame(normalizedData.iloc[0:(LagLength+h-1),0])\n",
    "ynorm=pd.concat([ynorm, ynorm1], ignore_index=True)\n",
    "yhat=minmaxDeNorm(Timeseries_nocycle, ynorm, lenTrain+lenValidation)\n",
    "Accuracy.loc[0,0],Accuracy.loc[0,1]=findRMSE( Timeseries_nocycle,yhat,lenTrain+lenValidation)\n",
    "Accuracy.loc[0,2],Accuracy.loc[0,3]=findMAE( Timeseries_nocycle,yhat,lenTrain+lenValidation)\n",
    "Forecasts=pd.concat([Forecasts, yhat.T], ignore_index=True)\n",
    "Accuracy.to_excel(file1,sheet_name='Accuracy',index=False)\n",
    "Forecasts.to_excel(file2,sheet_name='Forecasts',index=False)\n",
    "print(Accuracy)"
   ]
  },
  {
   "cell_type": "code",
   "execution_count": 74,
   "id": "8d2d8a9f-4156-4000-a95d-05f279634c4b",
   "metadata": {},
   "outputs": [
    {
     "name": "stdout",
     "output_type": "stream",
     "text": [
      "[[ 981.18148698  788.16783864  648.19559309  572.24887683]\n",
      " [ 969.10686804  733.48764199  635.55995146  559.76265789]\n",
      " [1118.47985352  749.5618457   825.90409054  475.4755711 ]\n",
      " [ 959.41876534  768.27445304  642.57748237  569.33726477]\n",
      " [ 833.16022232  735.52265651  485.7676691   533.60222201]\n",
      " [ 914.22943497  732.99638505  574.37406369  532.74674565]\n",
      " [ 905.44575518  721.30040172  577.8599774   553.44477931]\n",
      " [ 920.37813268  730.47270174  590.99988976  529.0260276 ]\n",
      " [1038.94034681  858.20548565  680.817319    633.84615319]\n",
      " [1048.00551261 1043.33212097  748.59449438  831.1859039 ]]\n",
      "The mean is  [[968.83463785 786.1321531  641.06505308 579.06762023]]\n"
     ]
    }
   ],
   "source": [
    "#Q4\n",
    "LagLength=10\n",
    "h=1\n",
    "lt=Timeseries_nocycle.shape[0]\n",
    "lenTrain=int(round(lt*0.7))\n",
    "lenValidation=int(round(lt*0.15))\n",
    "lenTest=int(lt-lenTrain-lenValidation)\n",
    "# NORMALIZE THE DATA\n",
    "normalizedData=minmaxNorm(Timeseries_nocycle,lenTrain+lenValidation);\n",
    "# Transform the Time Series into Patterns Using Sliding Window\n",
    "X, y = get_Patterns(normalizedData, LagLength, h)\n",
    "model=MLPRegressor()\n",
    "name='MLPRegression'\n",
    "file1='./'+str(name)+\"_AccuracyQ4.xlsx\"\n",
    "file2='./'+str(name)+\"_ForecastsQ4.xlsx\"\n",
    "Forecasts=pd.DataFrame()\n",
    "Accuracy=pd.DataFrame()\n",
    "\n",
    "arr=np.zeros((10,4))\n",
    "ans=np.zeros((1,4))\n",
    "for i in range(10):\n",
    "    ynorm1=Find_Fitness(X,y,lenValidation,lenTest,model)\n",
    "    ynorm=pd.DataFrame(normalizedData.iloc[0:(LagLength+h-1),0])\n",
    "    ynorm=pd.concat([ynorm, ynorm1], ignore_index=True)\n",
    "    yhat=minmaxDeNorm(Timeseries_nocycle, ynorm, lenTrain+lenValidation)\n",
    "    Accuracy.loc[0,0],Accuracy.loc[0,1]=findRMSE( Timeseries_nocycle,yhat,lenTrain+lenValidation)\n",
    "    Accuracy.loc[0,2],Accuracy.loc[0,3]=findMAE( Timeseries_nocycle,yhat,lenTrain+lenValidation)\n",
    "    Forecasts=pd.concat([Forecasts, yhat.T], ignore_index=True)\n",
    "    Accuracy.to_excel(file1,sheet_name='Accuracy',index=False)\n",
    "    Forecasts.to_excel(file2,sheet_name='Forecasts',index=False)\n",
    "    arr[i]=Accuracy\n",
    "print(arr)\n",
    "for i in range(10):\n",
    "    ans[0]+=(arr[i]/10)\n",
    "print(\"The mean is \",ans)"
   ]
  },
  {
   "cell_type": "code",
   "execution_count": 75,
   "id": "929b5765-6d5d-4712-a869-8355df13855d",
   "metadata": {},
   "outputs": [
    {
     "data": {
      "text/plain": [
       "<bound method NDFrame.head of           0\n",
       "0     269.0\n",
       "1     321.0\n",
       "2     585.0\n",
       "3     871.0\n",
       "4    1475.0\n",
       "..      ...\n",
       "109 -1915.0\n",
       "110   731.0\n",
       "111  1269.0\n",
       "112  2072.0\n",
       "113  2525.0\n",
       "\n",
       "[114 rows x 1 columns]>"
      ]
     },
     "execution_count": 75,
     "metadata": {},
     "output_type": "execute_result"
    }
   ],
   "source": [
    "#Q5\n",
    "temp1=Timeseries_Data[0:len(Timeseries_Data)].values\n",
    "temp_arr1=np.zeros((10,1))\n",
    "for i in range(10):\n",
    "    temp_arr1[i][0]=temp1[i][0]\n",
    "Timeseries_nocycle1=np.zeros((114,1))\n",
    "for i in range(10):\n",
    "    Timeseries_nocycle1[i][0]=temp1[i][0]\n",
    "for i in range(10,114):\n",
    "    Timeseries_nocycle1[i][0]=temp1[i][0]-temp_arr1[i%10][0]\n",
    "Timeseries_nocycle1=pd.DataFrame(Timeseries_nocycle1)\n",
    "Timeseries_nocycle1.head"
   ]
  },
  {
   "cell_type": "code",
   "execution_count": 76,
   "id": "31061f55-59e5-4385-84d8-83af348b1254",
   "metadata": {},
   "outputs": [
    {
     "name": "stdout",
     "output_type": "stream",
     "text": [
      "            0           1           2           3\n",
      "0  933.939998  693.497328  690.308493  551.960481\n"
     ]
    }
   ],
   "source": [
    "LagLength=10\n",
    "h=1\n",
    "lt=Timeseries_nocycle1.shape[0]\n",
    "lenTrain=int(round(lt*0.7))\n",
    "lenValidation=int(round(lt*0.15))\n",
    "lenTest=int(lt-lenTrain-lenValidation)\n",
    "# NORMALIZE THE DATA\n",
    "normalizedData=minmaxNorm(Timeseries_nocycle1,lenTrain+lenValidation);\n",
    "# Transform the Time Series into Patterns Using Sliding Window\n",
    "X, y = get_Patterns(normalizedData, LagLength, h)\n",
    "model=LinearRegression()\n",
    "name='LinearRegression'\n",
    "file1='./'+str(name)+\"_AccuracyQ5.xlsx\"\n",
    "file2='./'+str(name)+\"_ForecastsQ5.xlsx\"\n",
    "Forecasts=pd.DataFrame()\n",
    "Accuracy=pd.DataFrame()\n",
    "\n",
    "ynorm1=Find_Fitness(X,y,lenValidation,lenTest,model)\n",
    "ynorm=pd.DataFrame(normalizedData.iloc[0:(LagLength+h-1),0])\n",
    "ynorm=pd.concat([ynorm, ynorm1], ignore_index=True)\n",
    "yhat=minmaxDeNorm(Timeseries_nocycle1, ynorm, lenTrain+lenValidation)\n",
    "Accuracy.loc[0,0],Accuracy.loc[0,1]=findRMSE( Timeseries_nocycle1,yhat,lenTrain+lenValidation)\n",
    "Accuracy.loc[0,2],Accuracy.loc[0,3]=findMAE( Timeseries_nocycle1,yhat,lenTrain+lenValidation)\n",
    "Forecasts=pd.concat([Forecasts, yhat.T], ignore_index=True)\n",
    "Accuracy.to_excel(file1,sheet_name='Accuracy',index=False)\n",
    "Forecasts.to_excel(file2,sheet_name='Forecasts',index=False)\n",
    "print(Accuracy)"
   ]
  },
  {
   "cell_type": "code",
   "execution_count": 77,
   "id": "f2adf04a-64b3-4040-bfcb-f4f7fb6c7345",
   "metadata": {},
   "outputs": [
    {
     "name": "stdout",
     "output_type": "stream",
     "text": [
      "[[1299.63896117  967.08005499  907.27085854  791.99030023]\n",
      " [1055.53807516  711.9922631   751.49639967  562.11858122]\n",
      " [1046.29662631  682.14013887  762.12966518  562.8025422 ]\n",
      " [1243.80201072  828.45194787  926.96298304  631.95697324]\n",
      " [1882.14665695 1879.27881283 1375.31648973 1473.51179098]\n",
      " [2692.20831137 3019.28157414 2037.15724801 2477.21945184]\n",
      " [2522.73954841 2529.06285441 1870.48058068 1993.85966585]\n",
      " [1576.79013873 1302.94664839 1141.60273901 1106.96397787]\n",
      " [2154.34916551 2328.53871213 1591.61794079 1868.49017458]\n",
      " [1203.74787454  847.5653995   879.23568923  676.2180503 ]]\n",
      "The mean is  [[1667.72573689 1509.63384062 1224.32705939 1214.51315083]]\n"
     ]
    }
   ],
   "source": [
    "#Q6\n",
    "LagLength=10\n",
    "h=1\n",
    "lt=Timeseries_nocycle1.shape[0]\n",
    "lenTrain=int(round(lt*0.7))\n",
    "lenValidation=int(round(lt*0.15))\n",
    "lenTest=int(lt-lenTrain-lenValidation)\n",
    "# NORMALIZE THE DATA\n",
    "normalizedData=minmaxNorm(Timeseries_nocycle1,lenTrain+lenValidation);\n",
    "# Transform the Time Series into Patterns Using Sliding Window\n",
    "X, y = get_Patterns(normalizedData, LagLength, h)\n",
    "model=MLPRegressor()\n",
    "name='MLPRegression'\n",
    "file1='./'+str(name)+\"_AccuracyQ6.xlsx\"\n",
    "file2='./'+str(name)+\"_ForecastsQ6.xlsx\"\n",
    "Forecasts=pd.DataFrame()\n",
    "Accuracy=pd.DataFrame()\n",
    "\n",
    "arr=np.zeros((10,4))\n",
    "ans=np.zeros((1,4))\n",
    "for i in range(10):\n",
    "    ynorm1=Find_Fitness(X,y,lenValidation,lenTest,model)\n",
    "    ynorm=pd.DataFrame(normalizedData.iloc[0:(LagLength+h-1),0])\n",
    "    ynorm=pd.concat([ynorm, ynorm1], ignore_index=True)\n",
    "    yhat=minmaxDeNorm(Timeseries_nocycle1, ynorm, lenTrain+lenValidation)\n",
    "    Accuracy.loc[0,0],Accuracy.loc[0,1]=findRMSE( Timeseries_nocycle1,yhat,lenTrain+lenValidation)\n",
    "    Accuracy.loc[0,2],Accuracy.loc[0,3]=findMAE( Timeseries_nocycle1,yhat,lenTrain+lenValidation)\n",
    "    Forecasts=pd.concat([Forecasts, yhat.T], ignore_index=True)\n",
    "    Accuracy.to_excel(file1,sheet_name='Accuracy',index=False)\n",
    "    Forecasts.to_excel(file2,sheet_name='Forecasts',index=False)\n",
    "    arr[i]=Accuracy\n",
    "print(arr)\n",
    "for i in range(10):\n",
    "    ans[0]+=(arr[i]/10)\n",
    "print(\"The mean is \",ans)"
   ]
  },
  {
   "cell_type": "code",
   "execution_count": null,
   "id": "15abad49-f0ea-4bb4-a36e-a7e398185ef3",
   "metadata": {},
   "outputs": [],
   "source": [
    "#Q7\n",
    "#The best model is in Question 4"
   ]
  }
 ],
 "metadata": {
  "kernelspec": {
   "display_name": "Python 3 (ipykernel)",
   "language": "python",
   "name": "python3"
  },
  "language_info": {
   "codemirror_mode": {
    "name": "ipython",
    "version": 3
   },
   "file_extension": ".py",
   "mimetype": "text/x-python",
   "name": "python",
   "nbconvert_exporter": "python",
   "pygments_lexer": "ipython3",
   "version": "3.9.13"
  },
  "widgets": {
   "application/vnd.jupyter.widget-state+json": {
    "state": {},
    "version_major": 2,
    "version_minor": 0
   }
  }
 },
 "nbformat": 4,
 "nbformat_minor": 5
}
